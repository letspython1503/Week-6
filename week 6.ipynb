{
 "cells": [
  {
   "cell_type": "markdown",
   "metadata": {},
   "source": [
    "6. This Discourse topics collection lists topics and posters for each topic.\n",
    "\n",
    "    How many users (i.e. posters[*][\"username\"]) posted in more topics than AnupamKumarJha did in this dataset?"
   ]
  },
  {
   "cell_type": "code",
   "execution_count": 1,
   "metadata": {},
   "outputs": [],
   "source": [
    "import json\n",
    "import pandas as pd"
   ]
  },
  {
   "cell_type": "code",
   "execution_count": null,
   "metadata": {},
   "outputs": [],
   "source": [
    "with open(\"discourse-topics.json\",'r') as file:\n",
    "    data = json.load(file)\n",
    "data"
   ]
  },
  {
   "cell_type": "code",
   "execution_count": null,
   "metadata": {},
   "outputs": [
    {
     "data": {
      "text/plain": [
       "288"
      ]
     },
     "execution_count": 26,
     "metadata": {},
     "output_type": "execute_result"
    }
   ],
   "source": [
    "cnt ={}\n",
    "for item in data:\n",
    "    #print(item['posters'][1]['username'])\n",
    "    for poster in item['posters']:\n",
    "        name = poster['username']\n",
    "        if name in cnt:\n",
    "            cnt[name] = cnt[name] + 1\n",
    "        else:\n",
    "            cnt[name] = 1\n",
    "final = 0\n",
    "anucnt = cnt['AnupamKumarJha']\n",
    "for id in cnt:\n",
    "    if cnt[id] > anucnt:\n",
    "        final += 1 \n",
    "final"
   ]
  },
  {
   "cell_type": "markdown",
   "metadata": {},
   "source": []
  }
 ],
 "metadata": {
  "kernelspec": {
   "display_name": "Python 3",
   "language": "python",
   "name": "python3"
  },
  "language_info": {
   "codemirror_mode": {
    "name": "ipython",
    "version": 3
   },
   "file_extension": ".py",
   "mimetype": "text/x-python",
   "name": "python",
   "nbconvert_exporter": "python",
   "pygments_lexer": "ipython3",
   "version": "3.12.4"
  }
 },
 "nbformat": 4,
 "nbformat_minor": 2
}
